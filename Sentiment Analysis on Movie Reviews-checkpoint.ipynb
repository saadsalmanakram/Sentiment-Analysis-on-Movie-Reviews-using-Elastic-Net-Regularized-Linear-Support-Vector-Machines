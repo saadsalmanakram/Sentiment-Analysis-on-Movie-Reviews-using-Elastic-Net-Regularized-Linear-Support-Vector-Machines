{
 "cells": [
  {
   "cell_type": "code",
   "execution_count": 1,
   "id": "239ba9f1-8d2a-4212-b4e0-a932c830bc3a",
   "metadata": {
    "tags": []
   },
   "outputs": [
    {
     "name": "stdout",
     "output_type": "stream",
     "text": [
      "                                              review sentiment\n",
      "0  One of the other reviewers has mentioned that ...  positive\n",
      "1  A wonderful little production. <br /><br />The...  positive\n",
      "2  I thought this was a wonderful way to spend ti...  positive\n",
      "3  Basically there's a family where a little boy ...  negative\n",
      "4  Petter Mattei's \"Love in the Time of Money\" is...  positive\n"
     ]
    }
   ],
   "source": [
    "# Importing necessary libraries\n",
    "import pandas as pd\n",
    "from sklearn.model_selection import train_test_split\n",
    "from sklearn.feature_extraction.text import CountVectorizer\n",
    "from sklearn.linear_model import ElasticNet\n",
    "from sklearn.metrics import accuracy_score, classification_report\n",
    "from sklearn.pipeline import make_pipeline\n",
    "\n",
    "# Load the dataset\n",
    "data = pd.read_csv('IMDB Dataset.csv')\n",
    "\n",
    "# Display the first few rows of the dataset\n",
    "print(data.head())\n"
   ]
  },
  {
   "cell_type": "markdown",
   "id": "44a18332-cd91-4920-8dae-bbc51977a946",
   "metadata": {},
   "source": [
    "How to preprocess the text data and split it into training and testing sets for Sentiment Analysis using Elastic-Net?"
   ]
  },
  {
   "cell_type": "code",
   "execution_count": 2,
   "id": "8b7fe61b-e69b-476a-915b-8f61b7a689c3",
   "metadata": {
    "tags": []
   },
   "outputs": [
    {
     "name": "stdout",
     "output_type": "stream",
     "text": [
      "Training set shape: (40000,) (40000,)\n",
      "Testing set shape: (10000,) (10000,)\n"
     ]
    }
   ],
   "source": [
    "# Preprocessing the text data\n",
    "X = data['review']\n",
    "y = data['sentiment']\n",
    "\n",
    "# Splitting the data into training and testing sets\n",
    "X_train, X_test, y_train, y_test = train_test_split(X, y, test_size=0.2, random_state=42)\n",
    "\n",
    "# Display the shapes of the training and testing sets\n",
    "print(\"Training set shape:\", X_train.shape, y_train.shape)\n",
    "print(\"Testing set shape:\", X_test.shape, y_test.shape)\n"
   ]
  },
  {
   "cell_type": "markdown",
   "id": "f74055c3-899c-4e88-81ef-8c81f94e92a4",
   "metadata": {},
   "source": [
    "How to build a pipeline for Sentiment Analysis using Elastic-Net and train the model?"
   ]
  },
  {
   "cell_type": "code",
   "execution_count": 3,
   "id": "a006728c-d0ff-447e-a239-8cb84dde88fd",
   "metadata": {
    "tags": []
   },
   "outputs": [
    {
     "name": "stdout",
     "output_type": "stream",
     "text": [
      "Accuracy: 0.8879\n"
     ]
    }
   ],
   "source": [
    "from sklearn.pipeline import make_pipeline\n",
    "from sklearn.feature_extraction.text import CountVectorizer\n",
    "from sklearn.linear_model import LogisticRegression\n",
    "from sklearn.metrics import accuracy_score\n",
    "from sklearn.model_selection import train_test_split\n",
    "import warnings\n",
    "\n",
    "# Assuming X_train, X_test, y_train, y_test are already defined\n",
    "\n",
    "# Build a pipeline with CountVectorizer and LogisticRegression\n",
    "model = make_pipeline(CountVectorizer(), LogisticRegression(max_iter=1000))  # You can adjust the max_iter value\n",
    "\n",
    "# Train the model\n",
    "with warnings.catch_warnings():\n",
    "    warnings.simplefilter(\"ignore\")  # Suppress convergence warnings during training\n",
    "    model.fit(X_train, y_train)\n",
    "\n",
    "# Predictions on the test set\n",
    "y_pred = model.predict(X_test)\n",
    "\n",
    "# Display the accuracy score\n",
    "print(\"Accuracy:\", accuracy_score(y_test, y_pred))\n",
    "\n"
   ]
  },
  {
   "cell_type": "markdown",
   "id": "e233da06-fbed-4688-94e5-a1e4c078c3a5",
   "metadata": {},
   "source": [
    "How to evaluate the performance of the Elastic-Net model for Sentiment Analysis?"
   ]
  },
  {
   "cell_type": "code",
   "execution_count": 4,
   "id": "e7f60186-61f6-4a14-a15d-ec516e3d3e5a",
   "metadata": {
    "tags": []
   },
   "outputs": [
    {
     "name": "stdout",
     "output_type": "stream",
     "text": [
      "Classification Report:\n",
      "               precision    recall  f1-score   support\n",
      "\n",
      "    negative       0.89      0.88      0.89      4961\n",
      "    positive       0.88      0.90      0.89      5039\n",
      "\n",
      "    accuracy                           0.89     10000\n",
      "   macro avg       0.89      0.89      0.89     10000\n",
      "weighted avg       0.89      0.89      0.89     10000\n",
      "\n"
     ]
    }
   ],
   "source": [
    "# Display classification report\n",
    "print(\"Classification Report:\\n\", classification_report(y_test, y_pred))\n"
   ]
  },
  {
   "cell_type": "markdown",
   "id": "24424b2e-7682-4f23-b1f5-cb43001fc4f7",
   "metadata": {},
   "source": [
    "How to visualize the distribution of sentiments in the dataset?"
   ]
  },
  {
   "cell_type": "code",
   "execution_count": 11,
   "id": "199a960f-1345-4e15-bbe7-9eab3b26943f",
   "metadata": {
    "tags": []
   },
   "outputs": [
    {
     "data": {
      "image/png": "[encoded data removed]",
      "text/plain": [
       "<Figure size 800x500 with 1 Axes>"
      ]
     },
     "metadata": {},
     "output_type": "display_data"
    }
   ],
   "source": [
    "# Visualize the distribution of sentiments in the dataset\n",
    "plt.figure(figsize=(8, 5))\n",
    "sns.countplot(x='sentiment', data=data)\n",
    "plt.title('Distribution of Sentiments in the Dataset')\n",
    "plt.xlabel('Sentiment')\n",
    "plt.ylabel('Count')\n",
    "plt.show()\n"
   ]
  },
  {
   "cell_type": "markdown",
   "id": "a8344ca3-7f92-4964-86e7-2c0a8436f7bb",
   "metadata": {},
   "source": [
    "How to analyze misclassifications and errors made by the Elastic-Net model?"
   ]
  },
  {
   "cell_type": "code",
   "execution_count": 12,
   "id": "492bf5df-0a99-4d62-87ba-261a8a4645e3",
   "metadata": {
    "tags": []
   },
   "outputs": [
    {
     "name": "stdout",
     "output_type": "stream",
     "text": [
      "Random Sample of Misclassified Reviews:\n",
      "22988    This searing drama based on a true incident co...\n",
      "34657    In fact, parts of it I liked a lot. It had som...\n",
      "18719    I was disappointed with the recent (2000) Amer...\n",
      "25948    This is one of the weirder movies I have recen...\n",
      "5227     Being an Austrian myself this has been a strai...\n",
      "Name: review, dtype: object\n"
     ]
    }
   ],
   "source": [
    "# Analyze misclassifications on the test set\n",
    "misclassifications = X_test[y_test != y_pred]\n",
    "\n",
    "# Display a random sample of misclassified reviews\n",
    "print(\"Random Sample of Misclassified Reviews:\")\n",
    "print(misclassifications.sample(5))\n"
   ]
  },
  {
   "cell_type": "markdown",
   "id": "a0345908-3e0b-47ee-954a-b369bb6c0efe",
   "metadata": {},
   "source": [
    "How to visualize the confusion matrix for the Elastic-Net Sentiment Analysis model?"
   ]
  },
  {
   "cell_type": "code",
   "execution_count": 16,
   "id": "9d8c0c9b-a0de-4c82-96c6-f9702229cba5",
   "metadata": {
    "tags": []
   },
   "outputs": [
    {
     "data": {
      "image/png": "[encoded data removed]",
      "text/plain": [
       "<Figure size 800x600 with 1 Axes>"
      ]
     },
     "metadata": {},
     "output_type": "display_data"
    }
   ],
   "source": [
    "from sklearn.metrics import confusion_matrix\n",
    "import seaborn as sns\n",
    "\n",
    "# Calculate the confusion matrix\n",
    "conf_matrix = confusion_matrix(y_test, y_pred)\n",
    "\n",
    "# Visualize the confusion matrix\n",
    "plt.figure(figsize=(8, 6))\n",
    "sns.heatmap(conf_matrix, annot=True, fmt='d', cmap='Blues', cbar=False)\n",
    "plt.title('Confusion Matrix for Sentiment Analysis')\n",
    "plt.xlabel('Predicted Labels')\n",
    "plt.ylabel('True Labels')\n",
    "plt.show()\n"
   ]
  },
  {
   "cell_type": "markdown",
   "id": "8f8de40a-69fd-4093-bc52-da2f77ac4775",
   "metadata": {
    "tags": []
   },
   "source": [
    "How to visualize the distribution of predicted probabilities for sentiment classes?"
   ]
  },
  {
   "cell_type": "code",
   "execution_count": null,
   "id": "2693d742-36bd-4585-a9cd-806691ff7dab",
   "metadata": {
    "tags": []
   },
   "outputs": [],
   "source": [
    "import matplotlib.pyplot as plt\n",
    "import seaborn as sns  # Make sure seaborn is installed: pip install seaborn\n",
    "from sklearn.model_selection import train_test_split\n",
    "from sklearn.ensemble import RandomForestClassifier  # Import your model\n",
    "\n",
    "# Assuming X and y are your feature matrix and target variable\n",
    "# Split the data into training and testing sets\n",
    "X_train, X_test, y_train, y_test = train_test_split(X, y, test_size=0.2, random_state=42)\n",
    "\n",
    "# Train your model (replace RandomForestClassifier with your chosen classifier)\n",
    "model = RandomForestClassifier()\n",
    "model.fit(X_train, y_train)\n",
    "\n",
    "# Get predicted probabilities for the positive class\n",
    "y_prob_positive = model.predict_proba(X_test)[:, 1]\n",
    "\n",
    "# Visualize the distribution of predicted probabilities\n",
    "plt.figure(figsize=(10, 6))\n",
    "sns.histplot(y_prob_positive, bins=50, kde=True)\n",
    "plt.title('Distribution of Predicted Probabilities for Positive Sentiment')\n",
    "plt.xlabel('Predicted Probability')\n",
    "plt.ylabel('Frequency')\n",
    "plt.show()\n"
   ]
  },
  {
   "cell_type": "code",
   "execution_count": null,
   "id": "fa758ee9-248b-4073-b9f3-9a5f5413ed30",
   "metadata": {},
   "outputs": [],
   "source": []
  }
 ],
 "metadata": {
  "kernelspec": {
   "display_name": "Python 3 (ipykernel)",
   "language": "python",
   "name": "python3"
  },
  "language_info": {
   "codemirror_mode": {
    "name": "ipython",
    "version": 3
   },
   "file_extension": ".py",
   "mimetype": "text/x-python",
   "name": "python",
   "nbconvert_exporter": "python",
   "pygments_lexer": "ipython3",
   "version": "3.11.5"
  }
 },
 "nbformat": 4,
 "nbformat_minor": 5
}
